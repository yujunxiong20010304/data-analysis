{
 "cells": [
  {
   "cell_type": "code",
   "execution_count": 8,
   "id": "bc42041b",
   "metadata": {},
   "outputs": [],
   "source": [
    "import numpy as np"
   ]
  },
  {
   "cell_type": "code",
   "execution_count": 4,
   "id": "bb780a39",
   "metadata": {},
   "outputs": [
    {
     "name": "stdout",
     "output_type": "stream",
     "text": [
      "[0 1 2 3 4 5 6 7 8 9]\n",
      "int64\n"
     ]
    }
   ],
   "source": [
    "a = np.arange(10)\n",
    "print(a)\n",
    "print(a.dtype)"
   ]
  },
  {
   "cell_type": "code",
   "execution_count": 4,
   "id": "caa615aa",
   "metadata": {},
   "outputs": [
    {
     "name": "stdout",
     "output_type": "stream",
     "text": [
      "[1 2 3 4 5 6]\n",
      "int8\n"
     ]
    }
   ],
   "source": [
    "a = np.array([1,2,3,4,5,6,],dtype=np.int8)\n",
    "print(a)\n",
    "print(a.dtype)"
   ]
  },
  {
   "cell_type": "code",
   "execution_count": 11,
   "id": "aa55cebe",
   "metadata": {},
   "outputs": [
    {
     "name": "stdout",
     "output_type": "stream",
     "text": [
      "int8\n",
      "[1 2 3 4 5 6]\n",
      "[1 2 3 4 5 6]\n",
      "int64\n"
     ]
    }
   ],
   "source": [
    "f = np.array([1,2,3,4,5,6,],dtype=np.int8)\n",
    "print(f.dtype)\n",
    "print(f)\n",
    "f1 = f.astype(np.int64)\n",
    "print(f1)\n",
    "print(f1.dtype)"
   ]
  },
  {
   "cell_type": "markdown",
   "id": "a966e13d",
   "metadata": {},
   "source": [
    "#总结\n",
    "1.为什么numpy中有这么多数据类型？\n",
    "因为是基于c语言编写的\n",
    "numpy为了考虑到处理海量数据的性能，针对不同的数据给不同的数据类型，来节省内存空间，所以有不同的数据类型\n",
    "2.numpy数组中有哪些数据类型？\n",
    "3.数据类型转换可以使用的函数？\n",
    "ndarray.artype可以修改数组元素的数据类型"
   ]
  }
 ],
 "metadata": {
  "kernelspec": {
   "display_name": "Python 3",
   "language": "python",
   "name": "python3"
  },
  "language_info": {
   "codemirror_mode": {
    "name": "ipython",
    "version": 3
   },
   "file_extension": ".py",
   "mimetype": "text/x-python",
   "name": "python",
   "nbconvert_exporter": "python",
   "pygments_lexer": "ipython3",
   "version": "3.8.5"
  }
 },
 "nbformat": 4,
 "nbformat_minor": 5
}
