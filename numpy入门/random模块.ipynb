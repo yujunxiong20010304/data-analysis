{
 "cells": [
  {
   "cell_type": "code",
   "execution_count": 1,
   "id": "27604c92",
   "metadata": {},
   "outputs": [
    {
     "data": {
      "text/plain": [
       "array([[5, 1, 6, 8],\n",
       "       [4, 0, 7, 4],\n",
       "       [1, 0, 1, 7]])"
      ]
     },
     "execution_count": 1,
     "metadata": {},
     "output_type": "execute_result"
    }
   ],
   "source": [
    "import numpy as np"
   ]
  },
  {
   "cell_type": "code",
   "execution_count": 8,
   "id": "8143d5eb",
   "metadata": {
    "collapsed": true
   },
   "outputs": [
    {
     "data": {
      "text/plain": [
       "0.417022004702574"
      ]
     },
     "execution_count": 8,
     "metadata": {},
     "output_type": "execute_result"
    }
   ],
   "source": [
    "np.random.seed(1)\n",
    "#用于指定随机数生成时所用算法开始的整数值，如果使用相同的seed（）值，则每次生成的随机数都相同，\n",
    "#如果不设置这个值，则系统根据时间自己选择这个值，此时每次生成的随机数因为时间差异而不同，一般没有要求不用设置\n",
    "np.random.rand()"
   ]
  },
  {
   "cell_type": "code",
   "execution_count": 9,
   "id": "47c1431a",
   "metadata": {},
   "outputs": [
    {
     "data": {
      "text/plain": [
       "array([[[7.20324493e-01, 1.14374817e-04, 3.02332573e-01, 1.46755891e-01],\n",
       "        [9.23385948e-02, 1.86260211e-01, 3.45560727e-01, 3.96767474e-01],\n",
       "        [5.38816734e-01, 4.19194514e-01, 6.85219500e-01, 2.04452250e-01]],\n",
       "\n",
       "       [[8.78117436e-01, 2.73875932e-02, 6.70467510e-01, 4.17304802e-01],\n",
       "        [5.58689828e-01, 1.40386939e-01, 1.98101489e-01, 8.00744569e-01],\n",
       "        [9.68261576e-01, 3.13424178e-01, 6.92322616e-01, 8.76389152e-01]]])"
      ]
     },
     "execution_count": 9,
     "metadata": {},
     "output_type": "execute_result"
    }
   ],
   "source": [
    "np.random.rand(2,3,4)\n",
    "#生成一个值为[0,1)之间的数组，形状由参数决定，如果没有参数，那么将返回一个随机值"
   ]
  },
  {
   "cell_type": "code",
   "execution_count": 10,
   "id": "73d536d7",
   "metadata": {},
   "outputs": [
    {
     "data": {
      "text/plain": [
       "array([[[ 0.53381091, -0.0919733 ,  1.91382039,  0.33079713],\n",
       "        [ 1.14194252, -1.12959516, -0.85005238,  0.96082   ],\n",
       "        [-0.21741818,  0.15851488,  0.87341823, -0.11138337]],\n",
       "\n",
       "       [[-1.03803876, -1.00947983, -1.05825656,  0.65628408],\n",
       "        [-0.06249159, -1.73865429,  0.103163  , -0.62166685],\n",
       "        [ 0.27571804, -1.09067489, -0.60998525,  0.30641238]]])"
      ]
     },
     "execution_count": 10,
     "metadata": {},
     "output_type": "execute_result"
    }
   ],
   "source": [
    "np.random.randn(2,3,4)\n",
    "#生成均值为0，标准差为1的标准正态分布的值"
   ]
  },
  {
   "cell_type": "code",
   "execution_count": 23,
   "id": "82124e01",
   "metadata": {},
   "outputs": [
    {
     "data": {
      "text/plain": [
       "array([[[0, 6, 5, 1],\n",
       "        [2, 1, 5, 4],\n",
       "        [0, 7, 8, 9]],\n",
       "\n",
       "       [[5, 7, 0, 9],\n",
       "        [3, 9, 1, 4],\n",
       "        [4, 6, 8, 8]]])"
      ]
     },
     "execution_count": 23,
     "metadata": {},
     "output_type": "execute_result"
    }
   ],
   "source": [
    "np.random.randint(10,size=(2,3,4))\n",
    "#生成指定范围内的随机数，并且可以通过size参数指定维数"
   ]
  },
  {
   "cell_type": "code",
   "execution_count": 71,
   "id": "65f3047b",
   "metadata": {},
   "outputs": [
    {
     "name": "stdout",
     "output_type": "stream",
     "text": [
      "[4 3 6 7 6 3 0 6 4 7]\n",
      "[[0 6]\n",
      " [7 3]\n",
      " [7 7]]\n",
      "[7 4]\n",
      "23\n"
     ]
    }
   ],
   "source": [
    "data = np.random.randint(10,size=(10,))\n",
    "print(data)\n",
    "data1 = np.random.choice(data,size = (3,2))\n",
    "print(data1)\n",
    "data2 = np.random.choice(data,2)\n",
    "print(data2)\n",
    "data3 = np.random.randint(10,30)\n",
    "print(data3)\n",
    "#从一个列表或数组中随机进行采样。或者是从指定的区间进行采样，采样个数可以通过参数指定,注意这个choice针对的是一维数组"
   ]
  },
  {
   "cell_type": "code",
   "execution_count": 74,
   "id": "2d6f0afa",
   "metadata": {},
   "outputs": [
    {
     "name": "stdout",
     "output_type": "stream",
     "text": [
      "[[7 3 2 2 2]\n",
      " [6 6 0 1 5]\n",
      " [6 5 8 8 5]\n",
      " [5 7 5 9 1]\n",
      " [3 9 3 3 3]\n",
      " [6 1 3 0 5]\n",
      " [0 5 2 7 6]\n",
      " [4 0 2 4 8]\n",
      " [7 6 7 7 1]\n",
      " [7 7 3 8 3]]\n"
     ]
    },
    {
     "data": {
      "text/plain": [
       "array([[6, 5, 8, 8, 5],\n",
       "       [7, 6, 7, 7, 1],\n",
       "       [6, 6, 0, 1, 5],\n",
       "       [3, 9, 3, 3, 3],\n",
       "       [4, 0, 2, 4, 8],\n",
       "       [6, 1, 3, 0, 5],\n",
       "       [7, 7, 3, 8, 3],\n",
       "       [5, 7, 5, 9, 1],\n",
       "       [0, 5, 2, 7, 6],\n",
       "       [7, 3, 2, 2, 2]])"
      ]
     },
     "execution_count": 74,
     "metadata": {},
     "output_type": "execute_result"
    }
   ],
   "source": [
    "data = np.random.randint(10,size=(10,5))\n",
    "print(data)\n",
    "np.random.shuffle(data) #不会返回值，直接进行更新\n",
    "data\n",
    "#将元素的位置进行随机更换"
   ]
  }
 ],
 "metadata": {
  "kernelspec": {
   "display_name": "Python 3",
   "language": "python",
   "name": "python3"
  },
  "language_info": {
   "codemirror_mode": {
    "name": "ipython",
    "version": 3
   },
   "file_extension": ".py",
   "mimetype": "text/x-python",
   "name": "python",
   "nbconvert_exporter": "python",
   "pygments_lexer": "ipython3",
   "version": "3.8.5"
  }
 },
 "nbformat": 4,
 "nbformat_minor": 5
}
