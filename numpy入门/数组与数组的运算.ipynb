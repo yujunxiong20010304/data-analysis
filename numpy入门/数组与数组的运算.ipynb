{
 "cells": [
  {
   "cell_type": "code",
   "execution_count": 2,
   "id": "a24a08e3",
   "metadata": {},
   "outputs": [],
   "source": [
    "import numpy as np"
   ]
  },
  {
   "cell_type": "code",
   "execution_count": 4,
   "id": "213ed19d",
   "metadata": {},
   "outputs": [
    {
     "name": "stdout",
     "output_type": "stream",
     "text": [
      "[[4 2 4 1 3]\n",
      " [1 1 3 4 4]\n",
      " [2 2 1 4 0]]\n"
     ]
    }
   ],
   "source": [
    "a1 = np.random.randint(0,5,size=(3,5))\n",
    "print(a1)"
   ]
  },
  {
   "cell_type": "code",
   "execution_count": 5,
   "id": "007d6ff1",
   "metadata": {},
   "outputs": [
    {
     "data": {
      "text/plain": [
       "array([[8, 4, 8, 2, 6],\n",
       "       [2, 2, 6, 8, 8],\n",
       "       [4, 4, 2, 8, 0]])"
      ]
     },
     "execution_count": 5,
     "metadata": {},
     "output_type": "execute_result"
    }
   ],
   "source": [
    "a1*2  数组中每个数变为原来的两倍\n"
   ]
  },
  {
   "cell_type": "code",
   "execution_count": 6,
   "id": "42094df1",
   "metadata": {},
   "outputs": [
    {
     "name": "stdout",
     "output_type": "stream",
     "text": [
      "[[0 4 2 4 1]\n",
      " [4 1 0 0 0]\n",
      " [1 0 4 0 0]]\n",
      "[[4 6 6 5 4]\n",
      " [5 2 3 4 4]\n",
      " [3 2 5 4 0]]\n"
     ]
    }
   ],
   "source": [
    "a2 = np.random.randint(0,5,size=(3,5))\n",
    "print(a2)\n",
    "print(a1+a2)   如果结果一样相加，就是每个元素的相加"
   ]
  },
  {
   "cell_type": "code",
   "execution_count": 7,
   "id": "b49ef983",
   "metadata": {},
   "outputs": [
    {
     "name": "stdout",
     "output_type": "stream",
     "text": [
      "[[0 3 4 2]\n",
      " [0 3 3 4]\n",
      " [2 1 1 3]] [[1]\n",
      " [1]\n",
      " [1]]\n",
      "[[1 4 5 3]\n",
      " [1 4 4 5]\n",
      " [3 2 2 4]]\n"
     ]
    }
   ],
   "source": [
    "#行数相同并且只有一列的数组是可以运算的\n",
    "a3 = np.random.randint(0,5,size=(3,4))\n",
    "a4 = np.random.randint(0,5,size=(3,1))\n",
    "print(a3,a4)\n",
    "print(a3+a4)"
   ]
  },
  {
   "cell_type": "code",
   "execution_count": 9,
   "id": "2ac0f81c",
   "metadata": {},
   "outputs": [
    {
     "name": "stdout",
     "output_type": "stream",
     "text": [
      "[2 3 4 5 6]\n"
     ]
    }
   ],
   "source": [
    "a5 = np.array([1,2,3,4,5])\n",
    "a6 = np.array([1])\n",
    "print(a5+a6)"
   ]
  },
  {
   "cell_type": "code",
   "execution_count": null,
   "id": "45567ea5",
   "metadata": {},
   "outputs": [],
   "source": [
    "#运算原则：\n",
    "#如果两个数组的后缘维度（即从末尾开始算起的维度）的轴长度相符或其中一方的轴长度为1，则认为他们是广播兼容的，广播会在缺失和长度为1的维度上进行"
   ]
  }
 ],
 "metadata": {
  "kernelspec": {
   "display_name": "Python 3",
   "language": "python",
   "name": "python3"
  },
  "language_info": {
   "codemirror_mode": {
    "name": "ipython",
    "version": 3
   },
   "file_extension": ".py",
   "mimetype": "text/x-python",
   "name": "python",
   "nbconvert_exporter": "python",
   "pygments_lexer": "ipython3",
   "version": "3.8.5"
  }
 },
 "nbformat": 4,
 "nbformat_minor": 5
}
