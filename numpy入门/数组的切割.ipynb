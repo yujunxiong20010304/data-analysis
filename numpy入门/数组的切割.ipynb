{
 "cells": [
  {
   "cell_type": "code",
   "execution_count": 1,
   "id": "5bf9878e",
   "metadata": {},
   "outputs": [],
   "source": [
    "import numpy as np\n",
    "#hsplit     按照水平方向进行切割，用于指定分割成几列，可以使用数字来代表分割成几个部分，也可以使用数组来代表分割的地方 "
   ]
  },
  {
   "cell_type": "code",
   "execution_count": 3,
   "id": "433e3f13",
   "metadata": {},
   "outputs": [
    {
     "name": "stdout",
     "output_type": "stream",
     "text": [
      "[[4 6 9 8]\n",
      " [2 6 9 2]\n",
      " [4 1 8 4]]\n"
     ]
    },
    {
     "data": {
      "text/plain": [
       "[array([[4, 6],\n",
       "        [2, 6],\n",
       "        [4, 1]]),\n",
       " array([[9, 8],\n",
       "        [9, 2],\n",
       "        [8, 4]])]"
      ]
     },
     "execution_count": 3,
     "metadata": {},
     "output_type": "execute_result"
    }
   ],
   "source": [
    "hs1 = np.random.randint(0,10,size=(3,4))\n",
    "print(hs1)\n",
    "np.hsplit(hs1,2)"
   ]
  },
  {
   "cell_type": "code",
   "execution_count": 4,
   "id": "51a643f5",
   "metadata": {
    "collapsed": true
   },
   "outputs": [
    {
     "data": {
      "text/plain": [
       "[array([[4],\n",
       "        [2],\n",
       "        [4]]),\n",
       " array([[6],\n",
       "        [6],\n",
       "        [1]]),\n",
       " array([[9],\n",
       "        [9],\n",
       "        [8]]),\n",
       " array([[8],\n",
       "        [2],\n",
       "        [4]])]"
      ]
     },
     "execution_count": 4,
     "metadata": {},
     "output_type": "execute_result"
    }
   ],
   "source": [
    "np.hsplit(hs1,(1,2,3))"
   ]
  },
  {
   "cell_type": "code",
   "execution_count": null,
   "id": "ab3e4f32",
   "metadata": {},
   "outputs": [],
   "source": [
    "# vsplit  垂直切割，用于指定分割成几行，可以使用数字来代表分割成几个部分，也可以使用数组来代表分割的地方 "
   ]
  },
  {
   "cell_type": "code",
   "execution_count": 5,
   "id": "5fe33043",
   "metadata": {},
   "outputs": [
    {
     "name": "stdout",
     "output_type": "stream",
     "text": [
      "[[4 5 6 6 9]\n",
      " [8 2 8 0 6]\n",
      " [8 1 0 4 9]\n",
      " [3 8 9 2 2]]\n"
     ]
    }
   ],
   "source": [
    "vs1 = np.random.randint(0,10,size=(4,5))\n",
    "print(vs1)"
   ]
  },
  {
   "cell_type": "code",
   "execution_count": 9,
   "id": "5b85a425",
   "metadata": {},
   "outputs": [
    {
     "data": {
      "text/plain": [
       "[array([[4, 5, 6, 6, 9]]),\n",
       " array([[8, 2, 8, 0, 6]]),\n",
       " array([[8, 1, 0, 4, 9]]),\n",
       " array([[3, 8, 9, 2, 2]])]"
      ]
     },
     "execution_count": 9,
     "metadata": {},
     "output_type": "execute_result"
    }
   ],
   "source": [
    "np.vsplit(vs1,4)"
   ]
  },
  {
   "cell_type": "code",
   "execution_count": null,
   "id": "9343525a",
   "metadata": {},
   "outputs": [],
   "source": [
    "# split/array_split(array,indicate_or_seciont,axis) 用于指定切割方式，在切割的时候需要指定是按照行还是按照列，axis=1代表按照列，\n",
    "# axis= 0代表按照行"
   ]
  }
 ],
 "metadata": {
  "kernelspec": {
   "display_name": "Python 3",
   "language": "python",
   "name": "python3"
  },
  "language_info": {
   "codemirror_mode": {
    "name": "ipython",
    "version": 3
   },
   "file_extension": ".py",
   "mimetype": "text/x-python",
   "name": "python",
   "nbconvert_exporter": "python",
   "pygments_lexer": "ipython3",
   "version": "3.8.5"
  }
 },
 "nbformat": 4,
 "nbformat_minor": 5
}
