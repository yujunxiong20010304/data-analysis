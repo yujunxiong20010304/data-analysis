{
 "cells": [
  {
   "cell_type": "code",
   "execution_count": 1,
   "id": "50d20575",
   "metadata": {},
   "outputs": [],
   "source": [
    "import numpy as np"
   ]
  },
  {
   "cell_type": "code",
   "execution_count": 3,
   "id": "4df69a8d",
   "metadata": {},
   "outputs": [
    {
     "name": "stdout",
     "output_type": "stream",
     "text": [
      "True\n",
      "[0 1 2 3 4 5 6 7 8 9]\n"
     ]
    }
   ],
   "source": [
    "#不拷贝\n",
    "#只是简单的赋值，不会进行拷贝\n",
    "a = np.arange(10)\n",
    "b = a #给a另取了一个名字\n",
    "print(b is a)   # 返回true 说明 b和a 是同一个变量"
   ]
  },
  {
   "cell_type": "code",
   "execution_count": 6,
   "id": "5e96fc30",
   "metadata": {},
   "outputs": [
    {
     "name": "stdout",
     "output_type": "stream",
     "text": [
      "False [0 1 2 3 4 5 6 7 8 9]\n",
      "[100   1   2   3   4   5   6   7   8   9] [100   1   2   3   4   5   6   7   8   9]\n"
     ]
    }
   ],
   "source": [
    "#浅拷贝\n",
    "a1 = np.arange(10)\n",
    "c = a1.view()\n",
    "print(c is a1,a1)  #返回fslse说明a1和c不是同一个变量，但所指向的存储空间一样\n",
    "c[0] = 100\n",
    "print(c,a1)"
   ]
  },
  {
   "cell_type": "code",
   "execution_count": 8,
   "id": "6425ab99",
   "metadata": {},
   "outputs": [
    {
     "name": "stdout",
     "output_type": "stream",
     "text": [
      "False [0 1 2 3 4 5 6 7 8 9] [0 1 2 3 4 5 6 7 8 9]\n",
      "[0 1 2 3 4 5 6 7 8 9] [100   1   2   3   4   5   6   7   8   9]\n"
     ]
    }
   ],
   "source": [
    "#深拷贝\n",
    "a2 = np.arange(10)\n",
    "d = a2.copy()\n",
    "print(a is d,a,d)\n",
    "d[0] = 100\n",
    "print(a,d)"
   ]
  }
 ],
 "metadata": {
  "kernelspec": {
   "display_name": "Python 3",
   "language": "python",
   "name": "python3"
  },
  "language_info": {
   "codemirror_mode": {
    "name": "ipython",
    "version": 3
   },
   "file_extension": ".py",
   "mimetype": "text/x-python",
   "name": "python",
   "nbconvert_exporter": "python",
   "pygments_lexer": "ipython3",
   "version": "3.8.5"
  }
 },
 "nbformat": 4,
 "nbformat_minor": 5
}
