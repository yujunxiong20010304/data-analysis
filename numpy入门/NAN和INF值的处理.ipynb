{
 "cells": [
  {
   "cell_type": "code",
   "execution_count": 1,
   "id": "4506c565",
   "metadata": {
    "collapsed": true
   },
   "outputs": [
    {
     "ename": "SyntaxError",
     "evalue": "invalid syntax (<ipython-input-1-59b0cbaa990a>, line 6)",
     "output_type": "error",
     "traceback": [
      "\u001b[0;36m  File \u001b[0;32m\"<ipython-input-1-59b0cbaa990a>\"\u001b[0;36m, line \u001b[0;32m6\u001b[0m\n\u001b[0;31m    scores[scores=\"\"]=np.NAN  #把从excel读取出来的空，转化为NAN，因为NAN本身也是浮点型数据，便于下一步操作\u001b[0m\n\u001b[0m                 ^\u001b[0m\n\u001b[0;31mSyntaxError\u001b[0m\u001b[0;31m:\u001b[0m invalid syntax\n"
     ]
    }
   ],
   "source": [
    "#一张成绩表在excel中，其中有空值\n",
    "import numpy as np\n",
    "#loadtxt文件打开默认是gbk格式，并且解析出来的数据默认就是float\n",
    "#dtype=np.str使读出来的数据是字符串类型\n",
    "scores = np.loadtxt(\"文件名\",delimiter=\",\",encoding=\"utf-8\",skiprows=1,dtype=np.str)\n",
    "scores[scores=\"\"]=np.NAN  #把从excel读取出来的空，转化为NAN，因为NAN本身也是浮点型数据，便于下一步操作\n",
    "scores1 = scores.astype(np.float)\n",
    "scores1[np.isnan(scores1)] = 0\n",
    "scores1.sum(axis=1)#求每一行的和     axis表示轴为行\n",
    "#注意：除了delete(data,lines,axis)中axis的0表示行，1表示列外，其他axis都是1表示行"
   ]
  },
  {
   "cell_type": "code",
   "execution_count": 6,
   "id": "ed21af40",
   "metadata": {},
   "outputs": [
    {
     "data": {
      "text/plain": [
       "array([[5, 1, 3, 0],\n",
       "       [4, 5, 3, 6],\n",
       "       [6, 8, 3, 9]])"
      ]
     },
     "execution_count": 6,
     "metadata": {},
     "output_type": "execute_result"
    }
   ],
   "source": [
    "import numpy as np\n",
    "scores = np.random.randint(0,10,size=(3,4))\n",
    "scores2 = scores.astype(np.float)\n",
    "for x in range(scores2.shape[1]):\n",
    "    col = scores2[:,x]\n",
    "    non_nan_col = col[~np.isnan(col)]\n",
    "    mean = non_nan_col.mean()   #mean()求平均值，有一个参数axis\n",
    "    col[np.isnan(col)] = mean\n",
    "scores\n",
    "    "
   ]
  },
  {
   "cell_type": "markdown",
   "id": "13534348",
   "metadata": {},
   "source": [
    "总结：\n",
    "    NAN:not a number 的简写，不是一个数字，但是他是属于浮点类型\n",
    "    INF：无穷大，在除数为0的情况下会出现INF\n",
    "    NAN和所有的值进行计算的结果都为NAN\n",
    "    NAN！=NAN\n",
    "    可以通过np.isnan来判断某个值是不是NAN\n",
    "    处理值的时候，可以删除NAN的形式来进行处理，也可以通过值的替换来进行处理\n",
    "    np.delete比较特殊，他通过axis=0来判断行，而其他大部分通过axis=1来判断等于行"
   ]
  }
 ],
 "metadata": {
  "kernelspec": {
   "display_name": "Python 3",
   "language": "python",
   "name": "python3"
  },
  "language_info": {
   "codemirror_mode": {
    "name": "ipython",
    "version": 3
   },
   "file_extension": ".py",
   "mimetype": "text/x-python",
   "name": "python",
   "nbconvert_exporter": "python",
   "pygments_lexer": "ipython3",
   "version": "3.8.5"
  }
 },
 "nbformat": 4,
 "nbformat_minor": 5
}
