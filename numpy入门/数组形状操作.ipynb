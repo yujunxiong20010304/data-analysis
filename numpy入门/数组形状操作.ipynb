{
 "cells": [
  {
   "cell_type": "code",
   "execution_count": null,
   "id": "1ca0ee63",
   "metadata": {},
   "outputs": [],
   "source": [
    "#reshape 和 resize  都是改变数组的形状结构    reshape不会改变数组本身    resize改变数组本身"
   ]
  },
  {
   "cell_type": "code",
   "execution_count": null,
   "id": "f51c318c",
   "metadata": {},
   "outputs": [],
   "source": [
    "#flatten 和 ravel    flatten是将数组转化为一维数组后，拷贝返回回去，后续对返回值进行修改不会影响之前的数组\n",
    "#ravel    ravel是将数组转化为一维数组后,将这个引用返回回去，修改返回值，会影响之前的数组"
   ]
  }
 ],
 "metadata": {
  "kernelspec": {
   "display_name": "Python 3",
   "language": "python",
   "name": "python3"
  },
  "language_info": {
   "codemirror_mode": {
    "name": "ipython",
    "version": 3
   },
   "file_extension": ".py",
   "mimetype": "text/x-python",
   "name": "python",
   "nbconvert_exporter": "python",
   "pygments_lexer": "ipython3",
   "version": "3.8.5"
  }
 },
 "nbformat": 4,
 "nbformat_minor": 5
}
