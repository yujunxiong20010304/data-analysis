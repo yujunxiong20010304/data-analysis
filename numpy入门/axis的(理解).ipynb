{
 "cells": [
  {
   "cell_type": "code",
   "execution_count": 19,
   "id": "8973e1a0",
   "metadata": {},
   "outputs": [
    {
     "name": "stdout",
     "output_type": "stream",
     "text": [
      "[[[4 1 1 8]\n",
      "  [2 2 4 7]\n",
      "  [7 3 9 5]]\n",
      "\n",
      " [[5 7 3 6]\n",
      "  [9 7 0 5]\n",
      "  [8 6 4 5]]]\n",
      "[[5 7 3 8]\n",
      " [9 7 4 7]\n",
      " [8 6 9 5]]\n"
     ]
    }
   ],
   "source": [
    "#简单来说axis并不是简单的代表行和列，[[],[]] 最外面的括号代表0，依次往里的括号对应的axis的计数依次加1\n",
    "#操作方式：如果指定轴进行相关操作，那么他会使用轴下的每个（直接子元素）的第0个，第1个，第2个。。。分别进行相关操作\n",
    "import numpy as np\n",
    "n = np.random.randint(10,size=(2,3,4))\n",
    "print(n)\n",
    "print(n.max(axis=0))\n",
    "np.delete,是直接删除指定轴下的第几个直接子元素"
   ]
  }
 ],
 "metadata": {
  "kernelspec": {
   "display_name": "Python 3",
   "language": "python",
   "name": "python3"
  },
  "language_info": {
   "codemirror_mode": {
    "name": "ipython",
    "version": 3
   },
   "file_extension": ".py",
   "mimetype": "text/x-python",
   "name": "python",
   "nbconvert_exporter": "python",
   "pygments_lexer": "ipython3",
   "version": "3.8.5"
  }
 },
 "nbformat": 4,
 "nbformat_minor": 5
}
