{
 "cells": [
  {
   "cell_type": "code",
   "execution_count": 2,
   "id": "d785e4b2",
   "metadata": {},
   "outputs": [],
   "source": [
    "import numpy as np"
   ]
  },
  {
   "cell_type": "code",
   "execution_count": 10,
   "id": "b65daed6",
   "metadata": {},
   "outputs": [
    {
     "name": "stdout",
     "output_type": "stream",
     "text": [
      "1\n",
      "2\n"
     ]
    }
   ],
   "source": [
    "#ndim求数组维度\n",
    "a1 = np.array([1,2,3])\n",
    "print(a1.ndim)\n",
    "a2 = np.array([[1,2,3],[4,5,6]])\n",
    "print(a2.ndim)"
   ]
  },
  {
   "cell_type": "code",
   "execution_count": 12,
   "id": "b6150e5e",
   "metadata": {},
   "outputs": [
    {
     "name": "stdout",
     "output_type": "stream",
     "text": [
      "(3,)\n",
      "(2, 3)\n"
     ]
    }
   ],
   "source": [
    "shape求数组的几行几列\n",
    "print(a1.shape)\n",
    "print(a2.shape)"
   ]
  },
  {
   "cell_type": "code",
   "execution_count": 17,
   "id": "0fd44067",
   "metadata": {},
   "outputs": [
    {
     "name": "stdout",
     "output_type": "stream",
     "text": [
      "[[1 2 3 4 5 6]]\n",
      "[1 2 3 4 5 6]\n"
     ]
    }
   ],
   "source": [
    "#reshape重新定义数组的维度\n",
    "#但是元素个数总数不变\n",
    "#flatten扁平化，无论是几维数组都转化为一维\n",
    "a4 = a2.reshape((1,6))\n",
    "print(a4)\n",
    "a5 = a2.flatten()\n",
    "print(a5)"
   ]
  },
  {
   "cell_type": "code",
   "execution_count": 18,
   "id": "e7735231",
   "metadata": {},
   "outputs": [
    {
     "name": "stdout",
     "output_type": "stream",
     "text": [
      "6\n"
     ]
    }
   ],
   "source": [
    "#size不管是几维数组，都可以获取有多少元素\n",
    "count = a2.size\n",
    "print(count)"
   ]
  },
  {
   "cell_type": "code",
   "execution_count": 19,
   "id": "6ff36748",
   "metadata": {},
   "outputs": [
    {
     "name": "stdout",
     "output_type": "stream",
     "text": [
      "8\n",
      "int64\n"
     ]
    }
   ],
   "source": [
    "#获取数组中每个元素的大小，单位是字节，每个字节是8位\n",
    "items= a2.itemsize\n",
    "print(items)\n",
    "print(a2.dtype)"
   ]
  }
 ],
 "metadata": {
  "kernelspec": {
   "display_name": "Python 3",
   "language": "python",
   "name": "python3"
  },
  "language_info": {
   "codemirror_mode": {
    "name": "ipython",
    "version": 3
   },
   "file_extension": ".py",
   "mimetype": "text/x-python",
   "name": "python",
   "nbconvert_exporter": "python",
   "pygments_lexer": "ipython3",
   "version": "3.8.5"
  }
 },
 "nbformat": 4,
 "nbformat_minor": 5
}
