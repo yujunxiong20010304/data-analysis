{
 "cells": [
  {
   "cell_type": "code",
   "execution_count": null,
   "id": "4ccb95a7",
   "metadata": {},
   "outputs": [],
   "source": [
    "#1.vstack    将数组按垂直方式进行叠加，数组的列数必须相同才能叠加"
   ]
  },
  {
   "cell_type": "code",
   "execution_count": null,
   "id": "74888819",
   "metadata": {},
   "outputs": [],
   "source": [
    "#2.hstack    将数组按水平方式进行叠加，数组的行必须相同才能叠加"
   ]
  },
  {
   "cell_type": "code",
   "execution_count": null,
   "id": "5179959b",
   "metadata": {},
   "outputs": [],
   "source": [
    "#3.concatenate(a,b,axis)  将两个数组进行叠加，但具体是水平方向还是垂直方向，则要看axis的参数，如果axis=0，\n",
    "#那么代表是往垂直方向进行叠加，如果axis=1，那么代表是网水平方向进行叠加，如果axis=None，会先叠加，再将两个数组组合成一个数组\n",
    "#注意：如果是水平方向叠加，那么行必须相同，如果垂直方向叠加，那么列必须相同"
   ]
  }
 ],
 "metadata": {
  "kernelspec": {
   "display_name": "Python 3",
   "language": "python",
   "name": "python3"
  },
  "language_info": {
   "codemirror_mode": {
    "name": "ipython",
    "version": 3
   },
   "file_extension": ".py",
   "mimetype": "text/x-python",
   "name": "python",
   "nbconvert_exporter": "python",
   "pygments_lexer": "ipython3",
   "version": "3.8.5"
  }
 },
 "nbformat": 4,
 "nbformat_minor": 5
}
