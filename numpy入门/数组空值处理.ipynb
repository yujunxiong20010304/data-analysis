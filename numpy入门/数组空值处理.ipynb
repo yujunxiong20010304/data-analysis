{
 "cells": [
  {
   "cell_type": "code",
   "execution_count": 10,
   "id": "14099baa",
   "metadata": {},
   "outputs": [
    {
     "data": {
      "text/plain": [
       "7"
      ]
     },
     "execution_count": 10,
     "metadata": {},
     "output_type": "execute_result"
    }
   ],
   "source": [
    "import numpy as np\n",
    "a = np.random.randint(10,size=(3,4))\n",
    "a[1,2]\n"
   ]
  },
  {
   "cell_type": "code",
   "execution_count": 2,
   "id": "b9875855",
   "metadata": {},
   "outputs": [],
   "source": [
    "#nan和inf都可以看做浮点类型的数，nan类等于0 缺失值，inf无穷大"
   ]
  },
  {
   "cell_type": "code",
   "execution_count": 11,
   "id": "889007c6",
   "metadata": {},
   "outputs": [
    {
     "data": {
      "text/plain": [
       "array([[ 7.,  3.,  7.,  4.],\n",
       "       [ 7.,  6., nan,  3.],\n",
       "       [ 3.,  1.,  2.,  6.]])"
      ]
     },
     "execution_count": 11,
     "metadata": {},
     "output_type": "execute_result"
    }
   ],
   "source": [
    "a = a.astype(np.float)\n",
    "a[1,2] = np.NAN\n",
    "a"
   ]
  },
  {
   "cell_type": "code",
   "execution_count": 4,
   "id": "d6c6141d",
   "metadata": {},
   "outputs": [
    {
     "data": {
      "text/plain": [
       "True"
      ]
     },
     "execution_count": 4,
     "metadata": {},
     "output_type": "execute_result"
    }
   ],
   "source": [
    "np.NAN!=np.NAN"
   ]
  },
  {
   "cell_type": "code",
   "execution_count": 5,
   "id": "9c5c4001",
   "metadata": {},
   "outputs": [],
   "source": [
    "#删除缺失值"
   ]
  },
  {
   "cell_type": "code",
   "execution_count": 6,
   "id": "b699711e",
   "metadata": {},
   "outputs": [
    {
     "data": {
      "text/plain": [
       "array([[ 5.,  3., nan,  8.],\n",
       "       [ 1.,  3., nan,  9.],\n",
       "       [ 3.,  3.,  8.,  8.]])"
      ]
     },
     "execution_count": 6,
     "metadata": {},
     "output_type": "execute_result"
    }
   ],
   "source": [
    "a[0,2] = np.NAN\n",
    "a"
   ]
  },
  {
   "cell_type": "code",
   "execution_count": 7,
   "id": "f6633e1b",
   "metadata": {
    "scrolled": true
   },
   "outputs": [
    {
     "data": {
      "text/plain": [
       "array([5., 3., 8., 1., 3., 9., 3., 3., 8., 8.])"
      ]
     },
     "execution_count": 7,
     "metadata": {},
     "output_type": "execute_result"
    }
   ],
   "source": [
    "np.isnan(a)\n",
    "a[(np.isnan(a))]    #找出NAN\n",
    "a[~(np.isnan(a))]   # 删除NAN，并且a变成了一个一维数组"
   ]
  },
  {
   "cell_type": "code",
   "execution_count": 12,
   "id": "47be8960",
   "metadata": {},
   "outputs": [
    {
     "data": {
      "text/plain": [
       "array([[7., 3., 7., 4.]])"
      ]
     },
     "execution_count": 12,
     "metadata": {},
     "output_type": "execute_result"
    }
   ],
   "source": [
    "lines = np.where(np.isnan(a))  #返回满足条件的行\n",
    "#使用delete方法删除指定的行，axis=0表示删除行，axis=1表示删除列，lines表示删除的行号可以是个列表\n",
    "a1 = np.delete(a,lines,axis=0) \n",
    "a1"
   ]
  }
 ],
 "metadata": {
  "kernelspec": {
   "display_name": "Python 3",
   "language": "python",
   "name": "python3"
  },
  "language_info": {
   "codemirror_mode": {
    "name": "ipython",
    "version": 3
   },
   "file_extension": ".py",
   "mimetype": "text/x-python",
   "name": "python",
   "nbconvert_exporter": "python",
   "pygments_lexer": "ipython3",
   "version": "3.8.5"
  }
 },
 "nbformat": 4,
 "nbformat_minor": 5
}
