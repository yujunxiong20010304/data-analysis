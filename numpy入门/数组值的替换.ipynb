{
 "cells": [
  {
   "cell_type": "code",
   "execution_count": 1,
   "id": "61f94eed",
   "metadata": {},
   "outputs": [],
   "source": [
    "import numpy as np"
   ]
  },
  {
   "cell_type": "code",
   "execution_count": 2,
   "id": "b8a65bbc",
   "metadata": {},
   "outputs": [
    {
     "name": "stdout",
     "output_type": "stream",
     "text": [
      "[[5 4 4 6 9]\n",
      " [0 4 5 9 9]\n",
      " [1 2 5 7 5]]\n"
     ]
    }
   ],
   "source": [
    "a3 = np.random.randint(0,10,size=(3,5))\n",
    "print(a3)"
   ]
  },
  {
   "cell_type": "code",
   "execution_count": 3,
   "id": "22baf980",
   "metadata": {},
   "outputs": [
    {
     "name": "stdout",
     "output_type": "stream",
     "text": [
      "[[5 4 4 6 9]\n",
      " [0 0 0 0 0]\n",
      " [1 2 5 7 5]]\n"
     ]
    }
   ],
   "source": [
    "a3[1] = 0\n",
    "print(a3)"
   ]
  },
  {
   "cell_type": "code",
   "execution_count": 5,
   "id": "af56dad2",
   "metadata": {},
   "outputs": [
    {
     "name": "stdout",
     "output_type": "stream",
     "text": [
      "[[5 4 4 6 9]\n",
      " [1 1 1 1 1]\n",
      " [1 2 5 7 5]]\n"
     ]
    }
   ],
   "source": [
    "a3[1] = np.array([1,1,1,1,1])\n",
    "print(a3)"
   ]
  },
  {
   "cell_type": "code",
   "execution_count": 7,
   "id": "b5a91ba5",
   "metadata": {},
   "outputs": [
    {
     "name": "stdout",
     "output_type": "stream",
     "text": [
      "[[ 5  4  4  6  9]\n",
      " [10 10 10 10 10]\n",
      " [10  2  5  7  5]]\n"
     ]
    }
   ],
   "source": [
    "#条件替换\n",
    "a3[a3<2] = 10\n",
    "print(a3)"
   ]
  },
  {
   "cell_type": "code",
   "execution_count": 8,
   "id": "9971aba4",
   "metadata": {},
   "outputs": [
    {
     "name": "stdout",
     "output_type": "stream",
     "text": [
      "(array([0, 0, 0, 2, 2, 2]), array([0, 1, 2, 1, 2, 4]))\n"
     ]
    }
   ],
   "source": [
    "#通过where函数来实现\n",
    "result = np.where(a3<6)\n",
    "print(result)  #输出结果第一个是行，第二个是列"
   ]
  },
  {
   "cell_type": "code",
   "execution_count": 9,
   "id": "37378c63",
   "metadata": {},
   "outputs": [
    {
     "name": "stdout",
     "output_type": "stream",
     "text": [
      "[[1 1 1 0 0]\n",
      " [0 0 0 0 0]\n",
      " [0 1 1 0 1]]\n"
     ]
    }
   ],
   "source": [
    "result = np.where(a3<6,1,0) #这儿的1是小于6后要替换的结果，0是大于6后要替换的结果，必须同时有这两个参数\n",
    "print(result) "
   ]
  }
 ],
 "metadata": {
  "kernelspec": {
   "display_name": "Python 3",
   "language": "python",
   "name": "python3"
  },
  "language_info": {
   "codemirror_mode": {
    "name": "ipython",
    "version": 3
   },
   "file_extension": ".py",
   "mimetype": "text/x-python",
   "name": "python",
   "nbconvert_exporter": "python",
   "pygments_lexer": "ipython3",
   "version": "3.8.5"
  }
 },
 "nbformat": 4,
 "nbformat_minor": 5
}
