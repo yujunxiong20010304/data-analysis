{
 "cells": [
  {
   "cell_type": "code",
   "execution_count": 6,
   "id": "59c7d2e5",
   "metadata": {},
   "outputs": [],
   "source": [
    "import numpy as np"
   ]
  },
  {
   "cell_type": "code",
   "execution_count": 25,
   "id": "cf55daa1",
   "metadata": {
    "collapsed": true
   },
   "outputs": [
    {
     "name": "stdout",
     "output_type": "stream",
     "text": [
      "[0 1 2 3 4 5 6 7 8 9]\n",
      "4\n",
      "[0 1]\n",
      "[1 3 5]\n",
      "8\n",
      "[3 2]\n",
      "[1 2]\n"
     ]
    }
   ],
   "source": [
    "#一维数组索引和切片\n",
    "a1 = np.arange(10)\n",
    "print(a1)\n",
    "#进行索引操作\n",
    "print(a1[4])\n",
    "#进行切片操作    包前不包后\n",
    "print(a1[0:2])\n",
    "#步长\n",
    "print(a1[1:6:2])\n",
    "#使用负数作为索引\n",
    "print(a1[-2])\n",
    "print(a1[3:1:-1])\n",
    "print(a1[[1,2]])"
   ]
  },
  {
   "cell_type": "code",
   "execution_count": 47,
   "id": "c41d3cbd",
   "metadata": {},
   "outputs": [
    {
     "name": "stdout",
     "output_type": "stream",
     "text": [
      "[[5 6 6 5 6 2]\n",
      " [8 3 1 5 5 5]\n",
      " [6 4 1 8 6 3]\n",
      " [5 5 3 4 9 9]]\n",
      "[6 4 1 8 6 3]\n",
      "[5 6 6 5 6 2]\n",
      "5\n",
      "[[8 3 1 5 5 5]\n",
      " [6 4 1 8 6 3]\n",
      " [5 5 3 4 9 9]]\n",
      "3\n",
      "[1 4]\n",
      "[6 3 4 5]\n",
      "[5 3]\n",
      "[[5 5]\n",
      " [6 3]]\n"
     ]
    }
   ],
   "source": [
    "#多维数组\n",
    "#也是通过中括号来索引切片，在中括号中，使用逗号来进行分割，逗号前面的是行，逗号后面的是列，如果多维数组中只有一个值，那么这个值就是行\n",
    "a2 = np.random.randint(0,10,size=(4,6))\n",
    "print(a2)\n",
    "print(a2[0:4][2])  #获取a中的第三行\n",
    "print(a2[0])  #获取a中第一行\n",
    "print(a2[0][0])  #获取a中第一行第一列\n",
    "print(a2[[1,2,3]]) #获取a中的2，3，4行\n",
    "print(a2[3][2])  #获取a中第四行第三列\n",
    "print(a2[[1,3],[2,3]])   #[1,2]是行  [2,3]是列\n",
    "print(a2[:,1])  #获取a中所有行的第二列\n",
    "#注意区别：\n",
    "print(a2[[1,2],[4,5]])\n",
    "print(a2[1:3,4:6])\n",
    "#细品"
   ]
  },
  {
   "cell_type": "code",
   "execution_count": null,
   "id": "8507bd5d",
   "metadata": {},
   "outputs": [],
   "source": []
  }
 ],
 "metadata": {
  "kernelspec": {
   "display_name": "Python 3",
   "language": "python",
   "name": "python3"
  },
  "language_info": {
   "codemirror_mode": {
    "name": "ipython",
    "version": 3
   },
   "file_extension": ".py",
   "mimetype": "text/x-python",
   "name": "python",
   "nbconvert_exporter": "python",
   "pygments_lexer": "ipython3",
   "version": "3.8.5"
  }
 },
 "nbformat": 4,
 "nbformat_minor": 5
}
