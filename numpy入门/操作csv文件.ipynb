{
 "cells": [
  {
   "cell_type": "code",
   "execution_count": 3,
   "id": "0c472501",
   "metadata": {},
   "outputs": [],
   "source": [
    "import numpy as np"
   ]
  },
  {
   "cell_type": "code",
   "execution_count": null,
   "id": "b930b4c0",
   "metadata": {},
   "outputs": [],
   "source": [
    "#文件保存：np.savetxt(frame,array,fmt='',delimiter=None)  二维以下数组\n",
    "#参数：\n",
    "#frame：文件，字符串，或生成器，可以是.gz或.bz2的压缩文件\n",
    "#array:存入文件的数组\n",
    "#fmt:写入文件的格式,例如 %d,%.2f,%.18e\n",
    "#delimiter:分割字符串，默认是任何空格"
   ]
  },
  {
   "cell_type": "code",
   "execution_count": 9,
   "id": "43d89505",
   "metadata": {},
   "outputs": [
    {
     "name": "stdout",
     "output_type": "stream",
     "text": [
      "[[86 93]\n",
      " [75 68]\n",
      " [ 0 66]\n",
      " [30 22]\n",
      " [36 26]\n",
      " [66 86]\n",
      " [88 73]\n",
      " [48 62]\n",
      " [ 4 41]\n",
      " [10  8]\n",
      " [93 17]\n",
      " [97  7]\n",
      " [89 55]\n",
      " [12 97]\n",
      " [90 34]\n",
      " [25 39]\n",
      " [29 60]\n",
      " [76 92]\n",
      " [56 22]\n",
      " [ 1  1]]\n"
     ]
    }
   ],
   "source": [
    "a = np.random.randint(100,size=(20,2))\n",
    "print(a)"
   ]
  },
  {
   "cell_type": "code",
   "execution_count": 11,
   "id": "09e5a77e",
   "metadata": {},
   "outputs": [],
   "source": [
    "np.savetxt('a.csv',a,delimiter=',',header=\"数学,英语\",comments=\"\",fmt='%d')  \n",
    "#headear是表头，表头之间的分割符由delimiter确定\n",
    "#comments是表头的符号"
   ]
  },
  {
   "cell_type": "code",
   "execution_count": null,
   "id": "4fe3dbe8",
   "metadata": {},
   "outputs": [],
   "source": [
    "#读取csv文件\n",
    "np.loadtxt(frame,dtype=np.float,delimiter=None,unpack=False)\n",
    "#frame:文件，字符串或产生器，可以是.gz或.bz2的压缩文件\n",
    "#dtype:数据类型，可选\n",
    "#delimiter:分割字符串，默认是任何空格\n",
    "#skiprows:跳过前面X行\n",
    "#usecols:读取指定的列，元祖组合\n",
    "#unpack:如果True,读取出来的数组是转置后的"
   ]
  },
  {
   "cell_type": "code",
   "execution_count": 15,
   "id": "0a8ff28b",
   "metadata": {
    "collapsed": true
   },
   "outputs": [
    {
     "data": {
      "text/plain": [
       "array([[86, 93],\n",
       "       [75, 68],\n",
       "       [ 0, 66],\n",
       "       [30, 22],\n",
       "       [36, 26],\n",
       "       [66, 86],\n",
       "       [88, 73],\n",
       "       [48, 62],\n",
       "       [ 4, 41],\n",
       "       [10,  8],\n",
       "       [93, 17],\n",
       "       [97,  7],\n",
       "       [89, 55],\n",
       "       [12, 97],\n",
       "       [90, 34],\n",
       "       [25, 39],\n",
       "       [29, 60],\n",
       "       [76, 92],\n",
       "       [56, 22],\n",
       "       [ 1,  1]])"
      ]
     },
     "execution_count": 15,
     "metadata": {},
     "output_type": "execute_result"
    }
   ],
   "source": [
    "b = np.loadtxt('a.csv',dtype=np.int,delimiter=\",\",skiprows=1)\n",
    "b"
   ]
  },
  {
   "cell_type": "code",
   "execution_count": null,
   "id": "25823f75",
   "metadata": {},
   "outputs": [],
   "source": [
    "#save和load方式 针对于多维数组\n",
    "#存储：np.save(fname,array)或np.savez(fname,array).其中，前者函数的扩展名是.npy，后者的扩展名是.npz,后者是经过压缩的\n",
    "#加载：np.load(fname)"
   ]
  },
  {
   "cell_type": "code",
   "execution_count": null,
   "id": "da6b361f",
   "metadata": {},
   "outputs": [],
   "source": []
  }
 ],
 "metadata": {
  "kernelspec": {
   "display_name": "Python 3",
   "language": "python",
   "name": "python3"
  },
  "language_info": {
   "codemirror_mode": {
    "name": "ipython",
    "version": 3
   },
   "file_extension": ".py",
   "mimetype": "text/x-python",
   "name": "python",
   "nbconvert_exporter": "python",
   "pygments_lexer": "ipython3",
   "version": "3.8.5"
  }
 },
 "nbformat": 4,
 "nbformat_minor": 5
}
