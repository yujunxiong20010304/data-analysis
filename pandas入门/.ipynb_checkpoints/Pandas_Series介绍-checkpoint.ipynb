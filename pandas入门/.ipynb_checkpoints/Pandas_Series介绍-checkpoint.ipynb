{
 "cells": [
  {
   "cell_type": "code",
   "execution_count": 6,
   "id": "7754fc13",
   "metadata": {},
   "outputs": [],
   "source": [
    "import pandas as pd\n",
    "import numpy as np"
   ]
  },
  {
   "cell_type": "code",
   "execution_count": 17,
   "id": "01f0f628",
   "metadata": {},
   "outputs": [
    {
     "data": {
      "text/plain": [
       "name     老王\n",
       "age      18\n",
       "class     一\n",
       "dtype: object"
      ]
     },
     "execution_count": 17,
     "metadata": {},
     "output_type": "execute_result"
    }
   ],
   "source": [
    "# 有三种方式创建Series\n",
    "# 1.通过一个列表来创建\n",
    "s1 = pd.Series([1,2,3,4,5,6])\n",
    "s1\n",
    "# 2.数组创建\n",
    "arr1 = np.arange(4)\n",
    "s2 = pd.Series(arr1,index=['a','b','c','d'])  # 可以手动指定索引符号，但指定索引符号要和arr1的值的个数一样\n",
    "s2\n",
    "# 3.子典创建Series对象\n",
    "dict = {'name':'老王','age':'18','class':'一'}\n",
    "s3 = pd.Series(dict,index=['name','age','class'])\n",
    "s3"
   ]
  },
  {
   "cell_type": "code",
   "execution_count": 13,
   "id": "0ae82d24",
   "metadata": {},
   "outputs": [
    {
     "data": {
      "text/plain": [
       "array([1, 2, 3, 4, 5, 6])"
      ]
     },
     "execution_count": 13,
     "metadata": {},
     "output_type": "execute_result"
    }
   ],
   "source": [
    "s1.values   # 将Series用数组的形式打印出来"
   ]
  },
  {
   "cell_type": "code",
   "execution_count": 14,
   "id": "4e3cb36b",
   "metadata": {},
   "outputs": [
    {
     "data": {
      "text/plain": [
       "RangeIndex(start=0, stop=6, step=1)"
      ]
     },
     "execution_count": 14,
     "metadata": {},
     "output_type": "execute_result"
    }
   ],
   "source": [
    "s1.index    # 将索引打印出来"
   ]
  }
 ],
 "metadata": {
  "kernelspec": {
   "display_name": "Python 3",
   "language": "python",
   "name": "python3"
  },
  "language_info": {
   "codemirror_mode": {
    "name": "ipython",
    "version": 3
   },
   "file_extension": ".py",
   "mimetype": "text/x-python",
   "name": "python",
   "nbconvert_exporter": "python",
   "pygments_lexer": "ipython3",
   "version": "3.8.5"
  }
 },
 "nbformat": 4,
 "nbformat_minor": 5
}
