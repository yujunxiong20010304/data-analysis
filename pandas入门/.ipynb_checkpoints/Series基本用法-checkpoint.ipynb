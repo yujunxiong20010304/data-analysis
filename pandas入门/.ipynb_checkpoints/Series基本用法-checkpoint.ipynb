{
 "cells": [
  {
   "cell_type": "code",
   "execution_count": 1,
   "id": "f139e85f",
   "metadata": {},
   "outputs": [],
   "source": [
    "import numpy as np\n",
    "import pandas as pd"
   ]
  },
  {
   "cell_type": "code",
   "execution_count": 9,
   "id": "bcceee92",
   "metadata": {
    "collapsed": true
   },
   "outputs": [
    {
     "data": {
      "text/plain": [
       "0     True\n",
       "1     True\n",
       "2     True\n",
       "3    False\n",
       "4     True\n",
       "5     True\n",
       "6     True\n",
       "7     True\n",
       "8     True\n",
       "9     True\n",
       "dtype: bool"
      ]
     },
     "execution_count": 9,
     "metadata": {},
     "output_type": "execute_result"
    }
   ],
   "source": [
    "# isnull和notnull检测缺失值\n",
    "arr = np.arange(10)\n",
    "s = pd.Series(arr)\n",
    "s[3] = np.NAN\n",
    "s.isnull()  # 判断是否为空 如果为空的话返回false，否则true\n",
    "s.notnull()  # notnull()和isnull()正好相反"
   ]
  },
  {
   "cell_type": "code",
   "execution_count": 20,
   "id": "058d8582",
   "metadata": {
    "collapsed": true
   },
   "outputs": [
    {
     "name": "stdout",
     "output_type": "stream",
     "text": [
      "[ 0.  1.  2. nan  4.  5.  6.  7.  8.  9.]\n",
      "RangeIndex(start=0, stop=10, step=1)\n",
      "3    NaN\n",
      "6    6.0\n",
      "dtype: float64\n"
     ]
    },
    {
     "data": {
      "text/plain": [
       "4    4.0\n",
       "5    5.0\n",
       "6    6.0\n",
       "7    7.0\n",
       "8    8.0\n",
       "9    9.0\n",
       "dtype: float64"
      ]
     },
     "execution_count": 20,
     "metadata": {},
     "output_type": "execute_result"
    }
   ],
   "source": [
    "# 通过索引获取数据\n",
    "print(s.values)   # 值\n",
    "print(s.index)    # 索引\n",
    "# 下标\n",
    "s[2]\n",
    "# 选取多个\n",
    "s[3:6]\n",
    "print(s[[3,6]])\n",
    "# 标签名（针对数组创建Series）\n",
    "s['标签名']\n",
    "# 标签切片\n",
    "s['标签名':'标签名'] # 这种切片方式能切取到末端\n",
    "# 布尔索引\n",
    "s[s>2]"
   ]
  },
  {
   "cell_type": "code",
   "execution_count": 22,
   "id": "7bd14794",
   "metadata": {
    "collapsed": true
   },
   "outputs": [
    {
     "name": "stdout",
     "output_type": "stream",
     "text": [
      "0     0.0\n",
      "1     3.0\n",
      "2     6.0\n",
      "3     NaN\n",
      "4    12.0\n",
      "5    15.0\n",
      "6    18.0\n",
      "7    21.0\n",
      "8    24.0\n",
      "9    27.0\n",
      "dtype: float64\n",
      "0    False\n",
      "1    False\n",
      "2    False\n",
      "3    False\n",
      "4     True\n",
      "5     True\n",
      "6     True\n",
      "7     True\n",
      "8     True\n",
      "9     True\n",
      "dtype: bool\n"
     ]
    }
   ],
   "source": [
    "# 索引与数据的对应关系不被运算结果影响\n",
    "print(s*3)\n",
    "print(s>2)"
   ]
  },
  {
   "cell_type": "code",
   "execution_count": 26,
   "id": "64aae789",
   "metadata": {},
   "outputs": [
    {
     "data": {
      "text/plain": [
       "data\n",
       "0    0.0\n",
       "1    1.0\n",
       "2    2.0\n",
       "3    NaN\n",
       "4    4.0\n",
       "5    5.0\n",
       "6    6.0\n",
       "7    7.0\n",
       "8    8.0\n",
       "9    9.0\n",
       "Name: sabi, dtype: float64"
      ]
     },
     "execution_count": 26,
     "metadata": {},
     "output_type": "execute_result"
    }
   ],
   "source": [
    "#name属性\n",
    "s.name = 'sabi'   # 对象名\n",
    "s.index.name = 'data'     # 对象索引名\n",
    "s"
   ]
  },
  {
   "cell_type": "code",
   "execution_count": 29,
   "id": "679fd5fd",
   "metadata": {},
   "outputs": [
    {
     "data": {
      "text/plain": [
       "data\n",
       "8    8.0\n",
       "9    9.0\n",
       "Name: sabi, dtype: float64"
      ]
     },
     "execution_count": 29,
     "metadata": {},
     "output_type": "execute_result"
    }
   ],
   "source": [
    "s.head(3)    # （头）默认选择前五行输出，可以指定行数，数据过多时使用\n",
    "s.tail(2)    # (尾)"
   ]
  }
 ],
 "metadata": {
  "kernelspec": {
   "display_name": "Python 3",
   "language": "python",
   "name": "python3"
  },
  "language_info": {
   "codemirror_mode": {
    "name": "ipython",
    "version": 3
   },
   "file_extension": ".py",
   "mimetype": "text/x-python",
   "name": "python",
   "nbconvert_exporter": "python",
   "pygments_lexer": "ipython3",
   "version": "3.8.5"
  }
 },
 "nbformat": 4,
 "nbformat_minor": 5
}
