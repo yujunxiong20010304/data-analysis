{
 "cells": [
  {
   "cell_type": "code",
   "execution_count": 5,
   "id": "38dba773",
   "metadata": {},
   "outputs": [],
   "source": [
    "import numpy as np\n",
    "import pandas as pd"
   ]
  },
  {
   "cell_type": "markdown",
   "id": "2ffc452a",
   "metadata": {},
   "source": [
    "# 层级索引"
   ]
  },
  {
   "cell_type": "code",
   "execution_count": 15,
   "id": "42ad46d8",
   "metadata": {
    "collapsed": true
   },
   "outputs": [
    {
     "data": {
      "text/plain": [
       "MultiIndex([('a', 1),\n",
       "            ('a', 2),\n",
       "            ('a', 3),\n",
       "            ('a', 4),\n",
       "            ('b', 1),\n",
       "            ('b', 2),\n",
       "            ('b', 3),\n",
       "            ('b', 4),\n",
       "            ('c', 1),\n",
       "            ('c', 2),\n",
       "            ('c', 3),\n",
       "            ('c', 4)],\n",
       "           )"
      ]
     },
     "execution_count": 15,
     "metadata": {},
     "output_type": "execute_result"
    }
   ],
   "source": [
    "s1 = pd.Series(np.random.rand(12),index=[['a','a','a','a','b','b','b','b','c','c','c','c'],\n",
    "                                        [1,2,3,4,1,2,3,4,1,2,3,4]])\n",
    "s1.index"
   ]
  },
  {
   "cell_type": "markdown",
   "id": "dfc3fb88",
   "metadata": {},
   "source": [
    "# 选取"
   ]
  },
  {
   "cell_type": "code",
   "execution_count": 20,
   "id": "6489637d",
   "metadata": {},
   "outputs": [
    {
     "data": {
      "text/plain": [
       "0.5101893858163005"
      ]
     },
     "execution_count": 20,
     "metadata": {},
     "output_type": "execute_result"
    }
   ],
   "source": [
    "#外层选取\n",
    "s1['a']\n",
    "#内层选取\n",
    "s1[:,2]\n",
    "#具体选取\n",
    "s1['a',1]"
   ]
  },
  {
   "cell_type": "markdown",
   "id": "2099f03b",
   "metadata": {},
   "source": [
    "# 交换内外层顺序"
   ]
  },
  {
   "cell_type": "code",
   "execution_count": 26,
   "id": "d0c42b9c",
   "metadata": {},
   "outputs": [
    {
     "data": {
      "text/plain": [
       "1  a    0.510189\n",
       "2  a    0.294321\n",
       "3  a    0.959558\n",
       "4  a    0.173522\n",
       "1  b    0.293872\n",
       "2  b    0.937161\n",
       "3  b    0.463836\n",
       "4  b    0.302501\n",
       "1  c    0.604680\n",
       "2  c    0.028350\n",
       "3  c    0.803889\n",
       "4  c    0.817961\n",
       "dtype: float64"
      ]
     },
     "execution_count": 26,
     "metadata": {},
     "output_type": "execute_result"
    }
   ],
   "source": [
    "#交换内外层\n",
    "s1.swaplevel()"
   ]
  }
 ],
 "metadata": {
  "kernelspec": {
   "display_name": "Python 3",
   "language": "python",
   "name": "python3"
  },
  "language_info": {
   "codemirror_mode": {
    "name": "ipython",
    "version": 3
   },
   "file_extension": ".py",
   "mimetype": "text/x-python",
   "name": "python",
   "nbconvert_exporter": "python",
   "pygments_lexer": "ipython3",
   "version": "3.8.5"
  }
 },
 "nbformat": 4,
 "nbformat_minor": 5
}
