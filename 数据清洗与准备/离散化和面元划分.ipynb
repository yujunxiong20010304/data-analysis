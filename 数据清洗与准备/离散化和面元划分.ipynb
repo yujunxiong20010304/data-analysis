{
 "cells": [
  {
   "cell_type": "code",
   "execution_count": 1,
   "id": "b6c2226a",
   "metadata": {},
   "outputs": [],
   "source": [
    "import numpy as np\n",
    "import pandas as pd"
   ]
  },
  {
   "cell_type": "code",
   "execution_count": null,
   "id": "c79fb0e5",
   "metadata": {},
   "outputs": [],
   "source": [
    "#离散化\n",
    "0-1e9  1-1e5\n",
    "6 8 4 9==>2 3 4 1"
   ]
  },
  {
   "cell_type": "code",
   "execution_count": 4,
   "id": "a22420f3",
   "metadata": {},
   "outputs": [],
   "source": [
    "#面元划分\n",
    "ages = [20,22,25,27,21,23,37,31,61,45,41,32]"
   ]
  },
  {
   "cell_type": "code",
   "execution_count": 3,
   "id": "c030650c",
   "metadata": {},
   "outputs": [],
   "source": [
    "bins = [18,25,35,60,100]"
   ]
  },
  {
   "cell_type": "code",
   "execution_count": 5,
   "id": "68cb1e1e",
   "metadata": {},
   "outputs": [
    {
     "data": {
      "text/plain": [
       "[(18, 25], (18, 25], (18, 25], (25, 35], (18, 25], ..., (25, 35], (60, 100], (35, 60], (35, 60], (25, 35]]\n",
       "Length: 12\n",
       "Categories (4, interval[int64]): [(18, 25] < (25, 35] < (35, 60] < (60, 100]]"
      ]
     },
     "execution_count": 5,
     "metadata": {},
     "output_type": "execute_result"
    }
   ],
   "source": [
    "cats = pd.cut(ages,bins)\n",
    "cats"
   ]
  },
  {
   "cell_type": "code",
   "execution_count": 6,
   "id": "3f0e6892",
   "metadata": {},
   "outputs": [
    {
     "data": {
      "text/plain": [
       "array([0, 0, 0, 1, 0, 0, 2, 1, 3, 2, 2, 1], dtype=int8)"
      ]
     },
     "execution_count": 6,
     "metadata": {},
     "output_type": "execute_result"
    }
   ],
   "source": [
    "cats.codes  #按照我给的阶段进行划分"
   ]
  },
  {
   "cell_type": "code",
   "execution_count": 7,
   "id": "6de1ed14",
   "metadata": {},
   "outputs": [
    {
     "data": {
      "text/plain": [
       "IntervalIndex([(18, 25], (25, 35], (35, 60], (60, 100]],\n",
       "              closed='right',\n",
       "              dtype='interval[int64]')"
      ]
     },
     "execution_count": 7,
     "metadata": {},
     "output_type": "execute_result"
    }
   ],
   "source": [
    "cats.categories"
   ]
  },
  {
   "cell_type": "code",
   "execution_count": 8,
   "id": "bd1a61fa",
   "metadata": {},
   "outputs": [
    {
     "data": {
      "text/plain": [
       "(18, 25]     5\n",
       "(25, 35]     3\n",
       "(35, 60]     3\n",
       "(60, 100]    1\n",
       "dtype: int64"
      ]
     },
     "execution_count": 8,
     "metadata": {},
     "output_type": "execute_result"
    }
   ],
   "source": [
    "pd.value_counts(cats)"
   ]
  },
  {
   "cell_type": "code",
   "execution_count": 9,
   "id": "28fa6361",
   "metadata": {},
   "outputs": [
    {
     "data": {
      "text/plain": [
       "[(18, 26], (18, 26], (18, 26], (26, 36], (18, 26], ..., (26, 36], (36, 61], (36, 61], (36, 61], (26, 36]]\n",
       "Length: 12\n",
       "Categories (4, interval[int64]): [(18, 26] < (26, 36] < (36, 61] < (61, 100]]"
      ]
     },
     "execution_count": 9,
     "metadata": {},
     "output_type": "execute_result"
    }
   ],
   "source": [
    "pd.cut(ages,[18,26,36,61,100],right='False')  控制开闭区间"
   ]
  },
  {
   "cell_type": "code",
   "execution_count": 10,
   "id": "790f730c",
   "metadata": {
    "collapsed": true
   },
   "outputs": [
    {
     "data": {
      "text/plain": [
       "['青年', '青年', '青年', '年轻人', '青年', ..., '年轻人', '老年', '中年', '中年', '年轻人']\n",
       "Length: 12\n",
       "Categories (4, object): ['青年' < '年轻人' < '中年' < '老年']"
      ]
     },
     "execution_count": 10,
     "metadata": {},
     "output_type": "execute_result"
    }
   ],
   "source": [
    "#更改面元名称\n",
    "names = ['青年','年轻人','中年','老年']\n",
    "pd.cut(ages,bins,labels = names)"
   ]
  },
  {
   "cell_type": "code",
   "execution_count": 11,
   "id": "8c54ceb3",
   "metadata": {},
   "outputs": [
    {
     "data": {
      "text/plain": [
       "array([0.17068742, 0.66355373, 0.1189981 , 0.50896942, 0.82284317,\n",
       "       0.20527286, 0.04898816, 0.4201214 , 0.8412385 , 0.95645119,\n",
       "       0.47065566, 0.61892068, 0.1671727 , 0.05001057, 0.91522472,\n",
       "       0.14337669, 0.66384492, 0.22863214, 0.52072864, 0.63656565])"
      ]
     },
     "execution_count": 11,
     "metadata": {},
     "output_type": "execute_result"
    }
   ],
   "source": [
    "data = np.random.rand(20)\n",
    "data"
   ]
  },
  {
   "cell_type": "code",
   "execution_count": 12,
   "id": "06a79a1f",
   "metadata": {},
   "outputs": [
    {
     "data": {
      "text/plain": [
       "[(0.048, 0.23], (0.59, 0.77], (0.048, 0.23], (0.41, 0.59], (0.77, 0.96], ..., (0.048, 0.23], (0.59, 0.77], (0.048, 0.23], (0.41, 0.59], (0.59, 0.77]]\n",
       "Length: 20\n",
       "Categories (5, interval[float64]): [(0.048, 0.23] < (0.23, 0.41] < (0.41, 0.59] < (0.59, 0.77] < (0.77, 0.96]]"
      ]
     },
     "execution_count": 12,
     "metadata": {},
     "output_type": "execute_result"
    }
   ],
   "source": [
    "pd.cut(data,5,precision=2)  #将data分化为五部分，并保留后两位小数"
   ]
  },
  {
   "cell_type": "code",
   "execution_count": 16,
   "id": "39b91b47",
   "metadata": {},
   "outputs": [
    {
     "data": {
      "text/plain": [
       "[(0.17, 0.49], (0.49, 0.664], (0.048, 0.17], (0.49, 0.664], (0.664, 0.956], ..., (0.048, 0.17], (0.664, 0.956], (0.17, 0.49], (0.49, 0.664], (0.49, 0.664]]\n",
       "Length: 20\n",
       "Categories (4, interval[float64]): [(0.048, 0.17] < (0.17, 0.49] < (0.49, 0.664] < (0.664, 0.956]]"
      ]
     },
     "execution_count": 16,
     "metadata": {},
     "output_type": "execute_result"
    }
   ],
   "source": [
    "#qcut函数\n",
    "cats = pd.qcut(data,4)\n",
    "cats"
   ]
  }
 ],
 "metadata": {
  "kernelspec": {
   "display_name": "Python 3",
   "language": "python",
   "name": "python3"
  },
  "language_info": {
   "codemirror_mode": {
    "name": "ipython",
    "version": 3
   },
   "file_extension": ".py",
   "mimetype": "text/x-python",
   "name": "python",
   "nbconvert_exporter": "python",
   "pygments_lexer": "ipython3",
   "version": "3.8.5"
  }
 },
 "nbformat": 4,
 "nbformat_minor": 5
}
